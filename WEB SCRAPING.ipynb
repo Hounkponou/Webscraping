{
 "cells": [
  {
   "cell_type": "markdown",
   "id": "248eaf61",
   "metadata": {},
   "source": [
    "# Emmanuel Hounkponou_ Exercice_Webscraping"
   ]
  },
  {
   "cell_type": "code",
   "execution_count": 2,
   "id": "64c15e5c",
   "metadata": {},
   "outputs": [
    {
     "name": "stdout",
     "output_type": "stream",
     "text": [
      "Collecting word2number\n",
      "  Downloading word2number-1.1.zip (9.7 kB)\n",
      "Building wheels for collected packages: word2number\n",
      "  Building wheel for word2number (setup.py): started\n",
      "  Building wheel for word2number (setup.py): finished with status 'done'\n",
      "  Created wheel for word2number: filename=word2number-1.1-py3-none-any.whl size=5580 sha256=7db23f633d786a218bbace5d04b52626b8fb6ad1e1f6eeafc33aadc6e550d91a\n",
      "  Stored in directory: c:\\users\\haefs\\appdata\\local\\pip\\cache\\wheels\\a0\\4a\\5b\\d2f2df5c344ddbecb8bea759872c207ea91d93f57fb54e816e\n",
      "Successfully built word2number\n",
      "Installing collected packages: word2number\n",
      "Successfully installed word2number-1.1\n",
      "Note: you may need to restart the kernel to use updated packages.\n"
     ]
    },
    {
     "name": "stderr",
     "output_type": "stream",
     "text": [
      "WARNING: Ignoring invalid distribution -illow (c:\\users\\haefs\\anaconda3\\lib\\site-packages)\n",
      "WARNING: Ignoring invalid distribution -illow (c:\\users\\haefs\\anaconda3\\lib\\site-packages)\n",
      "WARNING: Ignoring invalid distribution -illow (c:\\users\\haefs\\anaconda3\\lib\\site-packages)\n",
      "WARNING: Ignoring invalid distribution -illow (c:\\users\\haefs\\anaconda3\\lib\\site-packages)\n",
      "WARNING: Ignoring invalid distribution -illow (c:\\users\\haefs\\anaconda3\\lib\\site-packages)\n",
      "WARNING: Ignoring invalid distribution -illow (c:\\users\\haefs\\anaconda3\\lib\\site-packages)\n",
      "WARNING: Ignoring invalid distribution -illow (c:\\users\\haefs\\anaconda3\\lib\\site-packages)\n"
     ]
    }
   ],
   "source": [
    "#Installing packages\n",
    "pip install word2number"
   ]
  },
  {
   "cell_type": "code",
   "execution_count": 3,
   "id": "2da7b503",
   "metadata": {},
   "outputs": [],
   "source": [
    "#immporting packages\n",
    "from bs4 import BeautifulSoup as bs\n",
    "import requests\n",
    "import re\n",
    "import pandas as pd\n",
    "from word2number import w2n\n",
    "from pandas_profiling import ProfileReport\n",
    "import matplotlib.pyplot as plt\n",
    "%matplotlib inline\n",
    "import seaborn as sns"
   ]
  },
  {
   "cell_type": "markdown",
   "id": "c1a764a6",
   "metadata": {},
   "source": [
    "# Part1: books.toscrape.com Scraping"
   ]
  },
  {
   "cell_type": "code",
   "execution_count": 4,
   "id": "5f1ebb75",
   "metadata": {},
   "outputs": [],
   "source": [
    "#Lists Creation\n",
    "\n",
    "Availability=[]\n",
    "Titles=[]\n",
    "currency=[]\n",
    "Categories=[]\n",
    "Stocks=[]\n",
    "Images=[]\n",
    "Ratings=[]\n",
    "Prices=[]\n",
    "Currency=[]\n",
    "\n",
    "for i in range (1,51): #i obtain 50 by dividing the number of books on the website:1000 (according to the home page of the website)by the number of books per page:20.\n",
    "\n",
    "    url='http://books.toscrape.com/catalogue/page-'+str(i)+'.html' #this url refer to each page \n",
    "    \n",
    "    #print(url)\n",
    "    r=requests.get(url)\n",
    "    #print(r.status_code)\n",
    "    soup=bs(r.content,'html.parser').find('ol',{'class','row'})\n",
    "    items=soup.find_all('li')\n",
    "    \n",
    "#In order to collect all the book information i use a for loop \n",
    "    for item in items:\n",
    "        url2='http://books.toscrape.com/catalogue/'+item.find('a')['href'] #url of each book per page\n",
    "        # print(url2)\n",
    "        r2=requests.get(url2)\n",
    "        #print(r.status_code)\n",
    "        soup2=bs(r2.content,'html.parser')\n",
    "        \n",
    "    #   Scrapping the title, image's url , price stock availability, category, rating of each book on the website\n",
    "        title=soup2.find('h1')\n",
    "        image=soup2.find('img')['src']\n",
    "        price=soup2.find('p',{'class':'price_color'}).text\n",
    "        stock=soup2.find('p',{\"class\":\"instock availability\"})\n",
    "        availability=item.find('p',{'class':'instock availability'}).text.strip()\n",
    "        category=soup2.find('ul',{\"class\":\"breadcrumb\"}).text.replace(\"\\n\",\"\").replace(title.text,\"\").replace(\"HomeBooks\",\"\")# selecting the category by replacing title and '\\n'\n",
    "        rating = w2n.word_to_num(re.search('<p class=\\\"star-rating \\w+\\\">',str(items)).group()\n",
    "                                 .replace('<p class=\\\"star-rating ', '').replace('\\\">', ''))  \n",
    "        \n",
    "     # Putting scrap informations in their list\n",
    "    \n",
    "        Titles.append(title.text)\n",
    "        Categories.append(category)\n",
    "        Images.append(image)\n",
    "        Prices.append(price [1:6]) # selecting the price\n",
    "        Currency.append(price[0]) # selecting the currency\n",
    "        Stocks.append(stock.text.replace(\"\\n\",\"\")[22:24]) #selecting the number of book in stock\n",
    "        Availability.append(availability.replace(\"\\n\",\"\")) # availability\n",
    "        Ratings.append(rating)\n",
    "      \n",
    "       "
   ]
  },
  {
   "cell_type": "markdown",
   "id": "617512ab",
   "metadata": {},
   "source": [
    "# Part2: DataFrame "
   ]
  },
  {
   "cell_type": "code",
   "execution_count": 298,
   "id": "16512678",
   "metadata": {},
   "outputs": [
    {
     "data": {
      "text/html": [
       "<div>\n",
       "<style scoped>\n",
       "    .dataframe tbody tr th:only-of-type {\n",
       "        vertical-align: middle;\n",
       "    }\n",
       "\n",
       "    .dataframe tbody tr th {\n",
       "        vertical-align: top;\n",
       "    }\n",
       "\n",
       "    .dataframe thead th {\n",
       "        text-align: right;\n",
       "    }\n",
       "</style>\n",
       "<table border=\"1\" class=\"dataframe\">\n",
       "  <thead>\n",
       "    <tr style=\"text-align: right;\">\n",
       "      <th></th>\n",
       "      <th>Categories</th>\n",
       "      <th>Titles</th>\n",
       "      <th>Images</th>\n",
       "      <th>Prices</th>\n",
       "      <th>Currency</th>\n",
       "      <th>Stocks</th>\n",
       "      <th>Availability</th>\n",
       "      <th>Ratings</th>\n",
       "    </tr>\n",
       "  </thead>\n",
       "  <tbody>\n",
       "    <tr>\n",
       "      <th>0</th>\n",
       "      <td>Poetry</td>\n",
       "      <td>A Light in the Attic</td>\n",
       "      <td>../../media/cache/fe/72/fe72f0532301ec28892ae7...</td>\n",
       "      <td>51.77</td>\n",
       "      <td>£</td>\n",
       "      <td>22</td>\n",
       "      <td>In stock</td>\n",
       "      <td>3</td>\n",
       "    </tr>\n",
       "    <tr>\n",
       "      <th>1</th>\n",
       "      <td>Historical Fiction</td>\n",
       "      <td>Tipping the Velvet</td>\n",
       "      <td>../../media/cache/08/e9/08e94f3731d7d6b760dfbf...</td>\n",
       "      <td>53.74</td>\n",
       "      <td>£</td>\n",
       "      <td>20</td>\n",
       "      <td>In stock</td>\n",
       "      <td>3</td>\n",
       "    </tr>\n",
       "    <tr>\n",
       "      <th>2</th>\n",
       "      <td>Fiction</td>\n",
       "      <td>Soumission</td>\n",
       "      <td>../../media/cache/ee/cf/eecfe998905e455df12064...</td>\n",
       "      <td>50.10</td>\n",
       "      <td>£</td>\n",
       "      <td>20</td>\n",
       "      <td>In stock</td>\n",
       "      <td>3</td>\n",
       "    </tr>\n",
       "    <tr>\n",
       "      <th>3</th>\n",
       "      <td>Mystery</td>\n",
       "      <td>Sharp Objects</td>\n",
       "      <td>../../media/cache/c0/59/c05972805aa7201171b8fc...</td>\n",
       "      <td>47.82</td>\n",
       "      <td>£</td>\n",
       "      <td>20</td>\n",
       "      <td>In stock</td>\n",
       "      <td>3</td>\n",
       "    </tr>\n",
       "    <tr>\n",
       "      <th>4</th>\n",
       "      <td>History</td>\n",
       "      <td>Sapiens: A Brief History of Humankind</td>\n",
       "      <td>../../media/cache/ce/5f/ce5f052c65cc963cf4422b...</td>\n",
       "      <td>54.23</td>\n",
       "      <td>£</td>\n",
       "      <td>20</td>\n",
       "      <td>In stock</td>\n",
       "      <td>3</td>\n",
       "    </tr>\n",
       "    <tr>\n",
       "      <th>...</th>\n",
       "      <td>...</td>\n",
       "      <td>...</td>\n",
       "      <td>...</td>\n",
       "      <td>...</td>\n",
       "      <td>...</td>\n",
       "      <td>...</td>\n",
       "      <td>...</td>\n",
       "      <td>...</td>\n",
       "    </tr>\n",
       "    <tr>\n",
       "      <th>995</th>\n",
       "      <td>Classics</td>\n",
       "      <td>Alice in Wonderland (Alice's Adventures in Won...</td>\n",
       "      <td>../../media/cache/99/df/99df494c230127c3d5ff53...</td>\n",
       "      <td>55.53</td>\n",
       "      <td>£</td>\n",
       "      <td>1</td>\n",
       "      <td>In stock</td>\n",
       "      <td>2</td>\n",
       "    </tr>\n",
       "    <tr>\n",
       "      <th>996</th>\n",
       "      <td>Sequential Art</td>\n",
       "      <td>Ajin: Demi-Human, Volume 1 (Ajin: Demi-Human #1)</td>\n",
       "      <td>../../media/cache/30/98/309814b6eeba469f4c7411...</td>\n",
       "      <td>57.06</td>\n",
       "      <td>£</td>\n",
       "      <td>1</td>\n",
       "      <td>In stock</td>\n",
       "      <td>2</td>\n",
       "    </tr>\n",
       "    <tr>\n",
       "      <th>997</th>\n",
       "      <td>Historical Fiction</td>\n",
       "      <td>A Spy's Devotion (The Regency Spies of London #1)</td>\n",
       "      <td>../../media/cache/f9/6b/f96b60a7614c4e3e868b82...</td>\n",
       "      <td>16.97</td>\n",
       "      <td>£</td>\n",
       "      <td>1</td>\n",
       "      <td>In stock</td>\n",
       "      <td>2</td>\n",
       "    </tr>\n",
       "    <tr>\n",
       "      <th>998</th>\n",
       "      <td>Mystery</td>\n",
       "      <td>1st to Die (Women's Murder Club #1)</td>\n",
       "      <td>../../media/cache/f6/8e/f68e6ae2f9da04fccbde84...</td>\n",
       "      <td>53.98</td>\n",
       "      <td>£</td>\n",
       "      <td>1</td>\n",
       "      <td>In stock</td>\n",
       "      <td>2</td>\n",
       "    </tr>\n",
       "    <tr>\n",
       "      <th>999</th>\n",
       "      <td>Travel</td>\n",
       "      <td>1,000 Places to See Before You Die</td>\n",
       "      <td>../../media/cache/9e/10/9e106f81f65b293e488718...</td>\n",
       "      <td>26.08</td>\n",
       "      <td>£</td>\n",
       "      <td>1</td>\n",
       "      <td>In stock</td>\n",
       "      <td>2</td>\n",
       "    </tr>\n",
       "  </tbody>\n",
       "</table>\n",
       "<p>1000 rows × 8 columns</p>\n",
       "</div>"
      ],
      "text/plain": [
       "             Categories                                             Titles  \\\n",
       "0                Poetry                               A Light in the Attic   \n",
       "1    Historical Fiction                                 Tipping the Velvet   \n",
       "2               Fiction                                         Soumission   \n",
       "3               Mystery                                      Sharp Objects   \n",
       "4               History              Sapiens: A Brief History of Humankind   \n",
       "..                  ...                                                ...   \n",
       "995            Classics  Alice in Wonderland (Alice's Adventures in Won...   \n",
       "996      Sequential Art   Ajin: Demi-Human, Volume 1 (Ajin: Demi-Human #1)   \n",
       "997  Historical Fiction  A Spy's Devotion (The Regency Spies of London #1)   \n",
       "998             Mystery                1st to Die (Women's Murder Club #1)   \n",
       "999              Travel                 1,000 Places to See Before You Die   \n",
       "\n",
       "                                                Images Prices Currency Stocks  \\\n",
       "0    ../../media/cache/fe/72/fe72f0532301ec28892ae7...  51.77        £     22   \n",
       "1    ../../media/cache/08/e9/08e94f3731d7d6b760dfbf...  53.74        £     20   \n",
       "2    ../../media/cache/ee/cf/eecfe998905e455df12064...  50.10        £     20   \n",
       "3    ../../media/cache/c0/59/c05972805aa7201171b8fc...  47.82        £     20   \n",
       "4    ../../media/cache/ce/5f/ce5f052c65cc963cf4422b...  54.23        £     20   \n",
       "..                                                 ...    ...      ...    ...   \n",
       "995  ../../media/cache/99/df/99df494c230127c3d5ff53...  55.53        £     1    \n",
       "996  ../../media/cache/30/98/309814b6eeba469f4c7411...  57.06        £     1    \n",
       "997  ../../media/cache/f9/6b/f96b60a7614c4e3e868b82...  16.97        £     1    \n",
       "998  ../../media/cache/f6/8e/f68e6ae2f9da04fccbde84...  53.98        £     1    \n",
       "999  ../../media/cache/9e/10/9e106f81f65b293e488718...  26.08        £     1    \n",
       "\n",
       "    Availability  Ratings  \n",
       "0       In stock        3  \n",
       "1       In stock        3  \n",
       "2       In stock        3  \n",
       "3       In stock        3  \n",
       "4       In stock        3  \n",
       "..           ...      ...  \n",
       "995     In stock        2  \n",
       "996     In stock        2  \n",
       "997     In stock        2  \n",
       "998     In stock        2  \n",
       "999     In stock        2  \n",
       "\n",
       "[1000 rows x 8 columns]"
      ]
     },
     "execution_count": 298,
     "metadata": {},
     "output_type": "execute_result"
    }
   ],
   "source": [
    "#DataFrame Creation\n",
    "data=list(zip(Categories,Titles,Images,Prices,Currency,Stocks,Availability,Ratings))#first i zip all the list\n",
    "\n",
    "#Then create the dataframe namedd here data\n",
    "data=pd.DataFrame(data,columns=['Categories','Titles','Images','Prices','Currency','Stocks','Availability','Ratings'])\n",
    "data"
   ]
  },
  {
   "cell_type": "markdown",
   "id": "7a243977",
   "metadata": {},
   "source": [
    "# Part 3: Descriptive Statistics"
   ]
  },
  {
   "cell_type": "code",
   "execution_count": 299,
   "id": "245e0ebf",
   "metadata": {
    "scrolled": true
   },
   "outputs": [
    {
     "name": "stdout",
     "output_type": "stream",
     "text": [
      "<class 'pandas.core.frame.DataFrame'>\n",
      "RangeIndex: 1000 entries, 0 to 999\n",
      "Data columns (total 8 columns):\n",
      " #   Column        Non-Null Count  Dtype \n",
      "---  ------        --------------  ----- \n",
      " 0   Categories    1000 non-null   object\n",
      " 1   Titles        1000 non-null   object\n",
      " 2   Images        1000 non-null   object\n",
      " 3   Prices        1000 non-null   object\n",
      " 4   Currency      1000 non-null   object\n",
      " 5   Stocks        1000 non-null   object\n",
      " 6   Availability  1000 non-null   object\n",
      " 7   Ratings       1000 non-null   int64 \n",
      "dtypes: int64(1), object(7)\n",
      "memory usage: 62.6+ KB\n"
     ]
    }
   ],
   "source": [
    "data.info()\n",
    "#We can see that all of our variables are in object type except thhe ratings"
   ]
  },
  {
   "cell_type": "code",
   "execution_count": 300,
   "id": "38ce7ee4",
   "metadata": {},
   "outputs": [],
   "source": [
    "data['Stocks']=data['Stocks'].astype(int)\n",
    "data['Prices']=data['Prices'].astype(float)"
   ]
  },
  {
   "cell_type": "code",
   "execution_count": 301,
   "id": "d98fc4fc",
   "metadata": {},
   "outputs": [
    {
     "data": {
      "text/plain": [
       "(1000, 8)"
      ]
     },
     "execution_count": 301,
     "metadata": {},
     "output_type": "execute_result"
    }
   ],
   "source": [
    "#The data shape\n",
    "data.shape"
   ]
  },
  {
   "cell_type": "code",
   "execution_count": 302,
   "id": "bfd82e89",
   "metadata": {},
   "outputs": [
    {
     "data": {
      "text/plain": [
       "50"
      ]
     },
     "execution_count": 302,
     "metadata": {},
     "output_type": "execute_result"
    }
   ],
   "source": [
    "# On this website we have 1000 books distributed into 50 categories\n",
    "data['Categories'].unique()\n",
    "len(data['Categories'].unique())"
   ]
  },
  {
   "cell_type": "code",
   "execution_count": 303,
   "id": "2b0a1e53",
   "metadata": {
    "scrolled": true
   },
   "outputs": [
    {
     "data": {
      "text/plain": [
       "<AxesSubplot:xlabel='count', ylabel='Categories'>"
      ]
     },
     "execution_count": 303,
     "metadata": {},
     "output_type": "execute_result"
    },
    {
     "data": {
      "image/png": "[encoded data removed]",
      "text/plain": [
       "<Figure size 720x720 with 1 Axes>"
      ]
     },
     "metadata": {},
     "output_type": "display_data"
    }
   ],
   "source": [
    "f, ax = plt.subplots(figsize=(10, 10))\n",
    "sns.countplot(y=\"Categories\", data=data, color=\"b\")\n",
    "#We can see here the distribution of books per category"
   ]
  },
  {
   "cell_type": "code",
   "execution_count": 304,
   "id": "2a19effb",
   "metadata": {
    "scrolled": true
   },
   "outputs": [
    {
     "data": {
      "text/plain": [
       "<function matplotlib.pyplot.show(close=None, block=None)>"
      ]
     },
     "execution_count": 304,
     "metadata": {},
     "output_type": "execute_result"
    },
    {
     "data": {
      "image/png": "[encoded data removed]",
      "text/plain": [
       "<Figure size 432x288 with 1 Axes>"
      ]
     },
     "metadata": {},
     "output_type": "display_data"
    }
   ],
   "source": [
    "plt.hist(data['Ratings'],color='b')\n",
    "plt.title('Ratings')\n",
    "plt.xlabel('Rate Number')\n",
    "plt.ylabel('count')\n",
    "plt.show\n",
    "#On the graphic above we can see that 250 books receive a grade of 5.\n",
    "#The lowest count is obtained by rating 4"
   ]
  },
  {
   "cell_type": "code",
   "execution_count": 305,
   "id": "7dfcf006",
   "metadata": {
    "scrolled": true
   },
   "outputs": [
    {
     "data": {
      "image/png": "[encoded data removed]",
      "text/plain": [
       "<Figure size 576x432 with 2 Axes>"
      ]
     },
     "metadata": {},
     "output_type": "display_data"
    }
   ],
   "source": [
    "#Correlation matrix\n",
    "corr_data = data.corr(method='pearson')\n",
    "plt.figure(figsize=(8, 6))\n",
    "sns.heatmap(corr_data, annot=True)\n",
    "plt.show()\n",
    "# We can see that the variables are poorly correlated"
   ]
  },
  {
   "cell_type": "code",
   "execution_count": 306,
   "id": "33e6ff19",
   "metadata": {},
   "outputs": [
    {
     "data": {
      "text/html": [
       "<div>\n",
       "<style scoped>\n",
       "    .dataframe tbody tr th:only-of-type {\n",
       "        vertical-align: middle;\n",
       "    }\n",
       "\n",
       "    .dataframe tbody tr th {\n",
       "        vertical-align: top;\n",
       "    }\n",
       "\n",
       "    .dataframe thead th {\n",
       "        text-align: right;\n",
       "    }\n",
       "</style>\n",
       "<table border=\"1\" class=\"dataframe\">\n",
       "  <thead>\n",
       "    <tr style=\"text-align: right;\">\n",
       "      <th></th>\n",
       "      <th>Prices</th>\n",
       "      <th>Stocks</th>\n",
       "      <th>Ratings</th>\n",
       "    </tr>\n",
       "  </thead>\n",
       "  <tbody>\n",
       "    <tr>\n",
       "      <th>count</th>\n",
       "      <td>1000.00000</td>\n",
       "      <td>1000.000000</td>\n",
       "      <td>1000.000000</td>\n",
       "    </tr>\n",
       "    <tr>\n",
       "      <th>mean</th>\n",
       "      <td>35.07035</td>\n",
       "      <td>8.585000</td>\n",
       "      <td>3.040000</td>\n",
       "    </tr>\n",
       "    <tr>\n",
       "      <th>std</th>\n",
       "      <td>14.44669</td>\n",
       "      <td>5.654622</td>\n",
       "      <td>1.496877</td>\n",
       "    </tr>\n",
       "    <tr>\n",
       "      <th>min</th>\n",
       "      <td>10.00000</td>\n",
       "      <td>1.000000</td>\n",
       "      <td>1.000000</td>\n",
       "    </tr>\n",
       "    <tr>\n",
       "      <th>25%</th>\n",
       "      <td>22.10750</td>\n",
       "      <td>3.000000</td>\n",
       "      <td>2.000000</td>\n",
       "    </tr>\n",
       "    <tr>\n",
       "      <th>50%</th>\n",
       "      <td>35.98000</td>\n",
       "      <td>7.000000</td>\n",
       "      <td>3.000000</td>\n",
       "    </tr>\n",
       "    <tr>\n",
       "      <th>75%</th>\n",
       "      <td>47.45750</td>\n",
       "      <td>14.000000</td>\n",
       "      <td>5.000000</td>\n",
       "    </tr>\n",
       "    <tr>\n",
       "      <th>max</th>\n",
       "      <td>59.99000</td>\n",
       "      <td>22.000000</td>\n",
       "      <td>5.000000</td>\n",
       "    </tr>\n",
       "  </tbody>\n",
       "</table>\n",
       "</div>"
      ],
      "text/plain": [
       "           Prices       Stocks      Ratings\n",
       "count  1000.00000  1000.000000  1000.000000\n",
       "mean     35.07035     8.585000     3.040000\n",
       "std      14.44669     5.654622     1.496877\n",
       "min      10.00000     1.000000     1.000000\n",
       "25%      22.10750     3.000000     2.000000\n",
       "50%      35.98000     7.000000     3.000000\n",
       "75%      47.45750    14.000000     5.000000\n",
       "max      59.99000    22.000000     5.000000"
      ]
     },
     "execution_count": 306,
     "metadata": {},
     "output_type": "execute_result"
    }
   ],
   "source": [
    "data.describe()\n",
    "#The mean price of a book is 35£\n",
    "#the most expensive book costs 59.9£\n",
    "#The cheapest book costs 10£"
   ]
  },
  {
   "cell_type": "code",
   "execution_count": 307,
   "id": "b0bb5e8b",
   "metadata": {},
   "outputs": [
    {
     "data": {
      "text/html": [
       "<div>\n",
       "<style scoped>\n",
       "    .dataframe tbody tr th:only-of-type {\n",
       "        vertical-align: middle;\n",
       "    }\n",
       "\n",
       "    .dataframe tbody tr th {\n",
       "        vertical-align: top;\n",
       "    }\n",
       "\n",
       "    .dataframe thead th {\n",
       "        text-align: right;\n",
       "    }\n",
       "</style>\n",
       "<table border=\"1\" class=\"dataframe\">\n",
       "  <thead>\n",
       "    <tr style=\"text-align: right;\">\n",
       "      <th></th>\n",
       "      <th>Categories</th>\n",
       "      <th>Titles</th>\n",
       "      <th>Images</th>\n",
       "      <th>Prices</th>\n",
       "      <th>Currency</th>\n",
       "      <th>Stocks</th>\n",
       "      <th>Availability</th>\n",
       "      <th>Ratings</th>\n",
       "    </tr>\n",
       "  </thead>\n",
       "  <tbody>\n",
       "    <tr>\n",
       "      <th>638</th>\n",
       "      <td>Young Adult</td>\n",
       "      <td>An Abundance of Katherines</td>\n",
       "      <td>../../media/cache/9b/c8/9bc86bc10a6beea536422b...</td>\n",
       "      <td>10.00</td>\n",
       "      <td>£</td>\n",
       "      <td>5</td>\n",
       "      <td>In stock</td>\n",
       "      <td>5</td>\n",
       "    </tr>\n",
       "    <tr>\n",
       "      <th>648</th>\n",
       "      <td>Romance</td>\n",
       "      <td>The Perfect Play (Play by Play #1)</td>\n",
       "      <td>../../media/cache/b0/be/b0be8b72b97ba3185f7d55...</td>\n",
       "      <td>59.99</td>\n",
       "      <td>£</td>\n",
       "      <td>4</td>\n",
       "      <td>In stock</td>\n",
       "      <td>4</td>\n",
       "    </tr>\n",
       "  </tbody>\n",
       "</table>\n",
       "</div>"
      ],
      "text/plain": [
       "      Categories                              Titles  \\\n",
       "638  Young Adult          An Abundance of Katherines   \n",
       "648      Romance  The Perfect Play (Play by Play #1)   \n",
       "\n",
       "                                                Images  Prices Currency  \\\n",
       "638  ../../media/cache/9b/c8/9bc86bc10a6beea536422b...   10.00        £   \n",
       "648  ../../media/cache/b0/be/b0be8b72b97ba3185f7d55...   59.99        £   \n",
       "\n",
       "     Stocks Availability  Ratings  \n",
       "638       5     In stock        5  \n",
       "648       4     In stock        4  "
      ]
     },
     "execution_count": 307,
     "metadata": {},
     "output_type": "execute_result"
    }
   ],
   "source": [
    "condition=(\n",
    "(data['Prices']==59.9900) | (data['Prices']==10))\n",
    "data.loc[condition]\n",
    "#Here we can see the cheaper and cheapest books with and their characteristics"
   ]
  },
  {
   "cell_type": "code",
   "execution_count": null,
   "id": "560a54fb",
   "metadata": {},
   "outputs": [],
   "source": []
  }
 ],
 "metadata": {
  "kernelspec": {
   "display_name": "Python 3 (ipykernel)",
   "language": "python",
   "name": "python3"
  },
  "language_info": {
   "codemirror_mode": {
    "name": "ipython",
    "version": 3
   },
   "file_extension": ".py",
   "mimetype": "text/x-python",
   "name": "python",
   "nbconvert_exporter": "python",
   "pygments_lexer": "ipython3",
   "version": "3.9.7"
  }
 },
 "nbformat": 4,
 "nbformat_minor": 5
}
